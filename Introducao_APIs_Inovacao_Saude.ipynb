{
 "cells": [
  {
   "cell_type": "markdown",
   "id": "9eaf4b63",
   "metadata": {},
   "source": [
    "# Introdução às APIs: Inovação e Saúde\n",
    "\n",
    "As **APIs (Application Programming Interfaces)** são ferramentas que permitem a comunicação entre diferentes sistemas, possibilitando o compartilhamento de dados e a integração de funcionalidades. Na área de **saúde e inovação**, APIs desempenham um papel crucial ao conectar sistemas hospitalares, dispositivos de monitoramento, plataformas de inteligência artificial e bancos de dados clínicos.\n",
    "\n",
    "Neste notebook, vamos explorar:\n",
    "\n",
    "1. O que são APIs e por que usá-las.\n",
    "2. Como fazer requisições a APIs utilizando Python.\n",
    "3. Um exemplo prático com uma API de saúde pública.\n",
    "\n",
    "---"
   ]
  },
  {
   "cell_type": "markdown",
   "id": "a8396a44",
   "metadata": {},
   "source": [
    "## O que são APIs?\n",
    "\n",
    "APIs são como \"pontes\" que permitem que diferentes sistemas se conectem e compartilhem dados. Por exemplo:\n",
    "\n",
    "- Um aplicativo pode usar a **API do OpenWeather** para obter informações climáticas e ajudar pacientes com problemas respiratórios.\n",
    "- Uma startup de saúde pode usar a **API do Google Maps** para localizar hospitais próximos.\n",
    "- Um sistema hospitalar pode integrar dispositivos de IoT usando APIs para monitorar pacientes em tempo real.\n",
    "\n",
    "As APIs são úteis para:\n",
    "- Acesso a dados externos.\n",
    "- Automação de tarefas.\n",
    "- Integração de funcionalidades de terceiros.\n",
    "\n",
    "---"
   ]
  },
  {
   "cell_type": "markdown",
   "id": "21b45b97",
   "metadata": {},
   "source": [
    "## Como usar APIs no Python\n",
    "\n",
    "No Python, você pode acessar APIs usando bibliotecas como `requests`. Vamos demonstrar isso com um exemplo simples usando uma API pública de saúde.\n",
    "\n",
    "### Exemplo 1: Usando a API de Doenças Transmissíveis da WHO\n",
    "\n",
    "A Organização Mundial da Saúde (WHO) oferece APIs que fornecem dados sobre doenças transmissíveis. Vamos buscar informações sobre surtos recentes."
   ]
  },
  {
   "cell_type": "code",
   "execution_count": null,
   "id": "aa979157",
   "metadata": {},
   "outputs": [],
   "source": [
    "import requests\n",
    "import json\n",
    "\n",
    "# URL da API\n",
    "url = \"https://disease.sh/v3/covid-19/countries/Brazil\"\n",
    "\n",
    "# Fazer a requisição GET\n",
    "response = requests.get(url)\n",
    "\n",
    "# Verificar o status da resposta\n",
    "if response.status_code == 200:\n",
    "    data = response.json()\n",
    "    print(\"Dados recebidos com sucesso!\\n\")\n",
    "    \n",
    "    # Exibindo informações básicas\n",
    "    print(f\"País: {data['country']}\")\n",
    "    print(f\"Casos confirmados: {data['cases']}\")\n",
    "    print(f\"Mortes: {data['deaths']}\")\n",
    "    print(f\"Recuperados: {data['recovered']}\")\n",
    "else:\n",
    "    print(\"Erro ao acessar a API.\")"
   ]
  },
  {
   "cell_type": "markdown",
   "id": "7cdc883b",
   "metadata": {},
   "source": [
    "### Exemplo 2: Integração com IA para Diagnósticos\n",
    "\n",
    "Imagine que você está desenvolvendo um sistema de triagem automática para pacientes. Você pode integrar dados de APIs com modelos de **machine learning** para prever possíveis diagnósticos.\n",
    "\n",
    "Aqui está um exemplo fictício onde usamos uma API para buscar sintomas e combinamos isso com um modelo pré-treinado."
   ]
  },
  {
   "cell_type": "code",
   "execution_count": null,
   "id": "153b50e5",
   "metadata": {},
   "outputs": [],
   "source": [
    "# Exemplo de sintomas fornecidos por uma API fictícia\n",
    "sintomas = [\"febre\", \"tosse\", \"fadiga\"]\n",
    "\n",
    "# Simulando um modelo simples para diagnóstico\n",
    "def prever_diagnostico(sintomas):\n",
    "    if \"tosse\" in sintomas and \"febre\" in sintomas:\n",
    "        return \"Possível diagnóstico: Gripe\"\n",
    "    elif \"fadiga\" in sintomas:\n",
    "        return \"Possível diagnóstico: Cansaço crônico\"\n",
    "    else:\n",
    "        return \"Diagnóstico: Não identificado\"\n",
    "\n",
    "# Integração do modelo com os dados da \"API\"\n",
    "print(prever_diagnostico(sintomas))"
   ]
  },
  {
   "cell_type": "markdown",
   "id": "ffc43778",
   "metadata": {},
   "source": [
    "### Exemplos Reais de APIs na Saúde\n",
    "\n",
    "1. **FHIR (Fast Healthcare Interoperability Resources):**\n",
    "   - Usado para padronizar dados de saúde entre sistemas hospitalares.\n",
    "   - Aplicação: Compartilhar registros médicos entre hospitais.\n",
    "\n",
    "2. **Infermedica API:**\n",
    "   - API de triagem e suporte à decisão clínica.\n",
    "   - Aplicação: Assistentes virtuais de saúde que avaliam sintomas.\n",
    "\n",
    "3. **Google Fit API:**\n",
    "   - Usada para monitoramento de saúde e bem-estar.\n",
    "   - Aplicação: Monitorar batimentos cardíacos, atividades físicas e sono.\n",
    "\n",
    "---"
   ]
  },
  {
   "cell_type": "markdown",
   "id": "6fb5de30",
   "metadata": {},
   "source": [
    "## Por que as APIs são cruciais na Inovação e Saúde?\n",
    "\n",
    "- **Interoperabilidade:** Facilita a comunicação entre diferentes sistemas e dispositivos.\n",
    "- **Acesso a Dados em Tempo Real:** Permite monitoramento contínuo de pacientes.\n",
    "- **Automação e Eficiência:** Reduz tarefas manuais ao integrar fluxos de trabalho.\n",
    "- **Suporte à Decisão:** Fornece dados que ajudam médicos e gestores a tomarem decisões baseadas em evidências.\n",
    "\n",
    "---\n",
    "\n",
    "Com APIs, a inovação em saúde se torna mais acessível e eficiente. Espero que este notebook tenha ajudado você a entender como as APIs podem transformar projetos nessa área. 😊"
   ]
  }
 ],
 "metadata": {},
 "nbformat": 4,
 "nbformat_minor": 5
}
