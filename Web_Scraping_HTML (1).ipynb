{
  "cells": [
    {
      "cell_type": "markdown",
      "id": "7b7f12ef",
      "metadata": {
        "id": "7b7f12ef"
      },
      "source": [
        "# Web Scraping e Fundamentos de HTML\n",
        "\n",
        "O **web scraping** é uma técnica de extração de informações de páginas da web. Ele permite que você colete e processe dados automaticamente, utilizando Python e bibliotecas como **BeautifulSoup** e **Requests**.\n",
        "\n",
        "Neste notebook, vamos explorar:\n",
        "\n",
        "1. Fundamentos de HTML e estrutura de páginas.\n",
        "2. Uso do BeautifulSoup para extração de dados.\n",
        "3. Extração de tabelas usando Pandas.\n",
        "\n",
        "---"
      ]
    },
    {
      "cell_type": "markdown",
      "id": "db92c6d5",
      "metadata": {
        "id": "db92c6d5"
      },
      "source": [
        "## O que é Web Scraping?\n",
        "\n",
        "O web scraping é amplamente utilizado para:\n",
        "- **Coleta de dados:** como preços de produtos, análises de mercado, etc.\n",
        "- **Monitoramento de informações:** como atualizações de notícias ou estatísticas em tempo real.\n",
        "- **Agregação de conteúdo:** consolidando informações de várias fontes em um único lugar.\n",
        "\n",
        "Para realizar scraping, precisamos:\n",
        "1. Fazer uma **requisição HTTP** para acessar a página.\n",
        "2. **Analisar o conteúdo HTML** retornado.\n",
        "3. **Identificar e extrair** os dados desejados.\n",
        "\n",
        "---"
      ]
    },
    {
      "cell_type": "markdown",
      "id": "21b81bca",
      "metadata": {
        "id": "21b81bca"
      },
      "source": [
        "## Fundamentos de HTML\n",
        "\n",
        "O HTML é a base de todas as páginas da web. Ele é estruturado em uma árvore de documentos, com elementos hierárquicos como tags, atributos e conteúdo.\n",
        "\n",
        "### Estrutura Básica do HTML\n",
        "```html\n",
        "<html>\n",
        "  <head>\n",
        "    <title>Título da Página</title>\n",
        "  </head>\n",
        "  <body>\n",
        "    <h1>Bem-vindo ao Web Scraping</h1>\n",
        "    <p>Este é um parágrafo com <a href=\"https://example.com\">um link</a>.</p>\n",
        "    <table>\n",
        "      <tr>\n",
        "        <th>Coluna 1</th>\n",
        "        <th>Coluna 2</th>\n",
        "      </tr>\n",
        "      <tr>\n",
        "        <td>Dado 1</td>\n",
        "        <td>Dado 2</td>\n",
        "      </tr>\n",
        "    </table>\n",
        "  </body>\n",
        "</html>\n",
        "```\n",
        "\n",
        "### Elementos Importantes\n",
        "1. **Tags:** Delimitam o início e o fim de elementos (`<h1>`, `<p>`, `<table>`).\n",
        "2. **Atributos:** Adicionam informações extras às tags (`href`, `id`, `class`).\n",
        "3. **Conteúdo:** O texto ou elementos contidos dentro das tags.\n",
        "\n",
        "---"
      ]
    },
    {
      "cell_type": "markdown",
      "id": "490a1bab",
      "metadata": {
        "id": "490a1bab"
      },
      "source": [
        "## Ferramentas Necessárias\n",
        "\n",
        "Para realizar web scraping, utilizaremos:\n",
        "- **Requests:** Para fazer requisições HTTP.\n",
        "- **BeautifulSoup:** Para analisar e manipular o HTML.\n",
        "- **Pandas:** Para extrair tabelas de páginas diretamente.\n",
        "\n",
        "Certifique-se de instalar as bibliotecas necessárias:\n",
        "```bash\n",
        "pip install requests beautifulsoup4 pandas\n",
        "```\n",
        "\n",
        "---"
      ]
    },
    {
      "cell_type": "markdown",
      "id": "d0175681",
      "metadata": {
        "id": "d0175681"
      },
      "source": [
        "## Exemplo 1: Coletando Dados de uma Página\n",
        "\n",
        "Vamos começar com um exemplo simples: extrair links de uma página da web.\n",
        "\n",
        "```python\n",
        "import requests\n",
        "from bs4 import BeautifulSoup\n",
        "\n",
        "# URL da página para scraping\n",
        "url = 'https://en.wikipedia.org/wiki/IBM'\n",
        "\n",
        "# Fazendo a requisição HTTP\n",
        "response = requests.get(url)\n",
        "html_content = response.text\n",
        "\n",
        "# Criando o objeto BeautifulSoup\n",
        "soup = BeautifulSoup(html_content, 'html.parser')\n",
        "\n",
        "# Extraindo todos os links (<a> tags)\n",
        "links = soup.find_all('a')\n",
        "\n",
        "print(\"Links encontrados:\")\n",
        "for link in links[:10]:  # Mostrando apenas os 10 primeiros\n",
        "    print(link.get('href'))\n",
        "```"
      ]
    },
    {
      "cell_type": "markdown",
      "id": "e4f1ff7e",
      "metadata": {
        "id": "e4f1ff7e"
      },
      "source": [
        "## Exemplo 2: Extraindo Dados Estruturados\n",
        "\n",
        "Vamos agora extrair dados de tabelas em uma página da web e transformá-los em um DataFrame usando Pandas.\n",
        "\n",
        "```python\n",
        "import pandas as pd\n",
        "\n",
        "# URL com tabelas\n",
        "url = 'https://en.wikipedia.org/wiki/List_of_countries_by_GDP_(nominal)'\n",
        "\n",
        "# Fazendo a requisição\n",
        "response = requests.get(url)\n",
        "soup = BeautifulSoup(response.text, 'html.parser')\n",
        "\n",
        "# Extraindo todas as tabelas da página\n",
        "tables = pd.read_html(response.text)\n",
        "\n",
        "# Exibindo a primeira tabela\n",
        "print(\"Primeira tabela encontrada:\")\n",
        "df = tables[0]\n",
        "print(df.head())\n",
        "```"
      ]
    },
    {
      "cell_type": "markdown",
      "id": "2b059562",
      "metadata": {
        "id": "2b059562"
      },
      "source": [
        "## Boas Práticas de Web Scraping\n",
        "\n",
        "1. **Respeite os Termos de Uso:** Sempre verifique se o site permite scraping em seus termos de uso.\n",
        "2. **Use um `User-Agent`:** Adicione um cabeçalho `User-Agent` à sua requisição para se identificar como um cliente legítimo.\n",
        "3. **Evite Sobrecarga no Servidor:** Não envie muitas requisições em curtos períodos de tempo.\n",
        "4. **Valide os Dados Extraídos:** Sempre confira se os dados extraídos estão corretos.\n",
        "\n",
        "---"
      ]
    },
    {
      "cell_type": "markdown",
      "id": "935a833a",
      "metadata": {
        "id": "935a833a"
      },
      "source": [
        "## Conclusão\n",
        "\n",
        "Neste notebook, exploramos os fundamentos de HTML e como usar Python para realizar web scraping com **BeautifulSoup** e **Pandas**. Agora você pode coletar e estruturar dados de páginas da web para análise! 🚀\n",
        "\n",
        "### Próximos Passos\n",
        "\n",
        "- Experimente extrair dados de diferentes sites.\n",
        "- Combine os dados extraídos com análises avançadas usando bibliotecas como Matplotlib ou Scikit-learn.\n",
        "\n",
        "---"
      ]
    }
  ],
  "metadata": {
    "colab": {
      "provenance": []
    }
  },
  "nbformat": 4,
  "nbformat_minor": 5
}